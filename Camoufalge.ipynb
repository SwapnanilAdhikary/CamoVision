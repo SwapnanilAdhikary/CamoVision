{
 "cells": [
  {
   "cell_type": "code",
   "execution_count": 44,
   "metadata": {},
   "outputs": [
    {
     "name": "stdout",
     "output_type": "stream",
     "text": [
      "\n",
      "0: 640x640 1 human, 72.0ms\n",
      "Speed: 5.7ms preprocess, 72.0ms inference, 4.4ms postprocess per image at shape (1, 3, 640, 640)\n",
      "Mean IoU: 0.0052\n",
      "Mean Precision: 0.0190\n",
      "Mean Recall: 0.0070\n",
      "F1 Score: 0.0103\n"
     ]
    }
   ],
   "source": [
    "from ultralytics import YOLO\n",
    "import cv2\n",
    "import numpy as np\n",
    "model = YOLO('camoflage.pt')\n",
    "img_path = \"C:\\\\Users\\\\adhik\\\\Downloads\\\\camouflage\\\\dataset-splitM\\\\data\\\\image948.jpg\"\n",
    "img = cv2.imread(img_path)\n",
    "if img is None:\n",
    "    raise ValueError(\"Image not found. Check the file path.\")\n",
    "target_size = (640, 640)\n",
    "img_resized = cv2.resize(img, target_size)\n",
    "results = model.predict(source=img_resized, conf=0.10)\n",
    "output_mask = np.zeros_like(img_resized)\n",
    "total_iou = 0\n",
    "total_precision = 0\n",
    "total_recall = 0\n",
    "count = 0\n",
    "for result in results:\n",
    "    if result.masks is not None:\n",
    "        for i, mask in enumerate(result.masks):\n",
    "            mask_np = mask.data.numpy() \n",
    "            \n",
    "            if mask_np.size == 0:\n",
    "                continue \n",
    "\n",
    "            \n",
    "            if mask_np.ndim == 3:\n",
    "                mask_np = mask_np[0] \n",
    "            \n",
    "           \n",
    "            mask_binary = mask_np > 0 \n",
    "            output_mask[mask_binary] = (0,255,255) \n",
    "            gt_mask = np.zeros_like(mask_binary)  \n",
    "            gt_mask[100:300, 100:300] = 1  \n",
    "            intersection = np.logical_and(mask_binary, gt_mask).sum()\n",
    "            union = np.logical_or(mask_binary, gt_mask).sum()\n",
    "            iou = intersection / union if union != 0 else 0\n",
    "            \n",
    "            \n",
    "            total_iou += iou\n",
    "            count += 1\n",
    "\n",
    "            true_positive = intersection\n",
    "            false_positive = mask_binary.sum() - true_positive\n",
    "            false_negative = gt_mask.sum() - true_positive\n",
    "            \n",
    "            precision = true_positive / (true_positive + false_positive) if (true_positive + false_positive) > 0 else 0\n",
    "            recall = true_positive / (true_positive + false_negative) if (true_positive + false_negative) > 0 else 0\n",
    "            \n",
    "            total_precision += precision\n",
    "            total_recall += recall\n",
    "            \n",
    "            \n",
    "            confidence = result.boxes[i].conf.item()  \n",
    "            label = f\"Human{confidence:.2f}\"\n",
    "\n",
    "            contours, _ = cv2.findContours(mask_np.astype(np.uint8), cv2.RETR_EXTERNAL, cv2.CHAIN_APPROX_SIMPLE)\n",
    "            for contour in contours:\n",
    "                cv2.drawContours(img_resized, [contour], -1, (0, 255, 0), 2)  \n",
    "                \n",
    "                M = cv2.moments(contour)\n",
    "                if M['m00'] > 0:\n",
    "                    cX = int(M['m10'] / M['m00'])\n",
    "                    cY = int(M['m01'] / M['m00'])\n",
    "                    cv2.putText(img_resized, label, (cX, cY), cv2.FONT_HERSHEY_SIMPLEX, 0.5, (0, 255, 0), 2)\n",
    "\n",
    "final_output = cv2.addWeighted(img_resized, 0.7, output_mask, 0.3, 0)\n",
    "\n",
    "\n",
    "cv2.imshow(\"Segmented Result\", final_output)\n",
    "cv2.waitKey(0)\n",
    "cv2.destroyAllWindows()\n",
    "\n",
    "if count > 0:\n",
    "    mean_iou = total_iou / count\n",
    "    mean_precision = total_precision / count\n",
    "    mean_recall = total_recall / count\n",
    "    f1_score = (2 * mean_precision * mean_recall) / (mean_precision + mean_recall) if (mean_precision + mean_recall) > 0 else 0\n",
    "    \n",
    "    print(f\"Mean IoU: {mean_iou:.4f}\")\n",
    "    print(f\"Mean Precision: {mean_precision:.4f}\")\n",
    "    print(f\"Mean Recall: {mean_recall:.4f}\")\n",
    "    print(f\"F1 Score: {f1_score:.4f}\")\n",
    "else:\n",
    "    print(\"No valid masks found for metrics calculation.\")\n"
   ]
  },
  {
   "cell_type": "code",
   "execution_count": 38,
   "metadata": {},
   "outputs": [
    {
     "name": "stdout",
     "output_type": "stream",
     "text": [
      "Ultralytics 8.3.3  Python-3.10.14 torch-2.4.1+cpu CPU (12th Gen Intel Core(TM) i7-12650H)\n"
     ]
    },
    {
     "name": "stderr",
     "output_type": "stream",
     "text": [
      "\u001b[34m\u001b[1mval: \u001b[0mScanning C:\\Users\\adhik\\Downloads\\camouflage\\work\\valid\\labels.cache... 69 images, 0 backgrounds, 0 corrupt: 100%|██████████| 69/69 [00:00<?, ?it/s]\n",
      "                 Class     Images  Instances      Box(P          R      mAP50  mAP50-95)     Mask(P          R      mAP50  mAP50-95): 100%|██████████| 5/5 [00:04<00:00,  1.05it/s]\n"
     ]
    },
    {
     "name": "stdout",
     "output_type": "stream",
     "text": [
      "                   all         69        104      0.693      0.508      0.611      0.375      0.741      0.514      0.614      0.386\n",
      "           camouflaged         17         20      0.613        0.6      0.606      0.351      0.619        0.6      0.606      0.368\n",
      "                 human         56         84      0.774      0.417      0.616        0.4      0.862      0.429      0.621      0.404\n",
      "Speed: 1.1ms preprocess, 57.0ms inference, 0.0ms loss, 0.1ms postprocess per image\n",
      "Results saved to \u001b[1mC:\\Users\\adhik\\runs\\segment\\val2\u001b[0m\n",
      "Mean Precision: 0.6932275186315373, Mean Recall: 0.5083333333333333, Mean mAP: 0.6109461858940368\n"
     ]
    }
   ],
   "source": [
    "test_metrics = model.val(data=\"C:\\\\Users\\\\adhik\\\\Downloads\\\\camouflage\\\\work\\\\data.yaml\", conf=0.25)\n",
    "mean_results = test_metrics.mean_results()\n",
    "print(f\"Mean Precision: {mean_results[0]}, Mean Recall: {mean_results[1]}, Mean mAP: {mean_results[2]}\")\n"
   ]
  },
  {
   "cell_type": "code",
   "execution_count": null,
   "metadata": {},
   "outputs": [],
   "source": []
  }
 ],
 "metadata": {
  "kernelspec": {
   "display_name": "py310",
   "language": "python",
   "name": "python3"
  },
  "language_info": {
   "codemirror_mode": {
    "name": "ipython",
    "version": 3
   },
   "file_extension": ".py",
   "mimetype": "text/x-python",
   "name": "python",
   "nbconvert_exporter": "python",
   "pygments_lexer": "ipython3",
   "version": "3.10.14"
  }
 },
 "nbformat": 4,
 "nbformat_minor": 2
}
